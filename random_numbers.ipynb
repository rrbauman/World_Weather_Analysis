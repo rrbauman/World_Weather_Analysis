{
 "cells": [
  {
   "cell_type": "code",
   "execution_count": 1,
   "id": "c76d01c2",
   "metadata": {},
   "outputs": [],
   "source": [
    "# Import the random module.\n",
    "import random"
   ]
  },
  {
   "cell_type": "code",
   "execution_count": 2,
   "id": "5c9ff099",
   "metadata": {},
   "outputs": [
    {
     "data": {
      "text/plain": [
       "75"
      ]
     },
     "execution_count": 2,
     "metadata": {},
     "output_type": "execute_result"
    }
   ],
   "source": [
    "random.randint(-90, 90)"
   ]
  },
  {
   "cell_type": "raw",
   "id": "6860a65f",
   "metadata": {},
   "source": [
    "random.tandom()"
   ]
  },
  {
   "cell_type": "code",
   "execution_count": 3,
   "id": "d99cfd88",
   "metadata": {},
   "outputs": [
    {
     "data": {
      "text/plain": [
       "0.9941504535622668"
      ]
     },
     "execution_count": 3,
     "metadata": {},
     "output_type": "execute_result"
    }
   ],
   "source": [
    "random.random()"
   ]
  },
  {
   "cell_type": "code",
   "execution_count": 4,
   "id": "50b7396f",
   "metadata": {},
   "outputs": [],
   "source": [
    "x = 1\n",
    "latitudes = []\n",
    "while x < 11:\n",
    "    random_lat = random.randint(-90, 89) + random.random()\n",
    "    latitudes.append(random_lat)\n",
    "    x += 1"
   ]
  },
  {
   "cell_type": "code",
   "execution_count": 5,
   "id": "dd7b489f",
   "metadata": {},
   "outputs": [
    {
     "data": {
      "text/plain": [
       "[61.40650419231722,\n",
       " -76.24303316072503,\n",
       " 58.318204815510384,\n",
       " 28.435475474121464,\n",
       " -38.14929190520407,\n",
       " 9.081502737584055,\n",
       " 19.346159689142194,\n",
       " 24.73697611188537,\n",
       " -33.88807319148957,\n",
       " 60.75004590178045]"
      ]
     },
     "execution_count": 5,
     "metadata": {},
     "output_type": "execute_result"
    }
   ],
   "source": [
    "latitudes"
   ]
  },
  {
   "cell_type": "code",
   "execution_count": 6,
   "id": "1de1f8db",
   "metadata": {},
   "outputs": [
    {
     "data": {
      "text/plain": [
       "-36"
      ]
     },
     "execution_count": 6,
     "metadata": {},
     "output_type": "execute_result"
    }
   ],
   "source": [
    "random.randrange(-90, 90, step=1)"
   ]
  },
  {
   "cell_type": "code",
   "execution_count": 7,
   "id": "d0785369",
   "metadata": {},
   "outputs": [
    {
     "data": {
      "text/plain": [
       "84"
      ]
     },
     "execution_count": 7,
     "metadata": {},
     "output_type": "execute_result"
    }
   ],
   "source": [
    "random.randrange(-90, 90, step=3)"
   ]
  },
  {
   "cell_type": "code",
   "execution_count": 8,
   "id": "a287046e",
   "metadata": {},
   "outputs": [
    {
     "data": {
      "text/plain": [
       "26.77545630683555"
      ]
     },
     "execution_count": 8,
     "metadata": {},
     "output_type": "execute_result"
    }
   ],
   "source": [
    "random.uniform(-90, 90)"
   ]
  },
  {
   "cell_type": "code",
   "execution_count": 9,
   "id": "b75a7abf",
   "metadata": {},
   "outputs": [],
   "source": [
    "# Import the NumPy module.\n",
    "import numpy as np"
   ]
  },
  {
   "cell_type": "code",
   "execution_count": 10,
   "id": "31461aa1",
   "metadata": {},
   "outputs": [
    {
     "data": {
      "text/plain": [
       "-9.905107433587247"
      ]
     },
     "execution_count": 10,
     "metadata": {},
     "output_type": "execute_result"
    }
   ],
   "source": [
    "np.random.uniform(-90.000, 90.000)"
   ]
  },
  {
   "cell_type": "code",
   "execution_count": 11,
   "id": "1cb9f980",
   "metadata": {},
   "outputs": [
    {
     "data": {
      "text/plain": [
       "80.57460833447445"
      ]
     },
     "execution_count": 11,
     "metadata": {},
     "output_type": "execute_result"
    }
   ],
   "source": [
    "# Different method of running\n",
    "np.random.uniform(low=-90, high=90)"
   ]
  },
  {
   "cell_type": "code",
   "execution_count": 12,
   "id": "193b55e4",
   "metadata": {},
   "outputs": [
    {
     "data": {
      "text/plain": [
       "array([ 43.92123298, -64.07137932,  23.13785189, -84.24442194,\n",
       "         4.6349025 ,  25.98728717,  42.28238778,  -7.94342776,\n",
       "         8.2194695 ,  14.32828993, -15.10598504,  51.44177876,\n",
       "        40.21638065,  55.06111697,  41.05959908, -61.69972428,\n",
       "        80.49337623, -68.3884653 , -39.42684132,  73.01150927,\n",
       "       -70.93301777,  15.3495086 ,   5.59880668, -18.36349157,\n",
       "       -34.87776456, -21.90583752, -29.81319719, -12.10678258,\n",
       "       -42.20187659,   5.13163467,  80.35967407, -57.60930248,\n",
       "       -22.52093498, -46.11894557,   2.32311457,  67.11775847,\n",
       "        31.28085812,  -0.95248797,  43.72656097, -35.65132916,\n",
       "       -14.80938205, -80.77044365, -57.01653108,  35.18998156,\n",
       "        47.08016496,  -3.83569961,   8.60389288,   5.43319465,\n",
       "         9.01996277,  29.95753397])"
      ]
     },
     "execution_count": 12,
     "metadata": {},
     "output_type": "execute_result"
    }
   ],
   "source": [
    "np.random.uniform(-90.000, 90.000, size=50)"
   ]
  },
  {
   "cell_type": "code",
   "execution_count": 13,
   "id": "80ea10e0",
   "metadata": {},
   "outputs": [],
   "source": [
    "# Import timeit.\n",
    "import timeit"
   ]
  },
  {
   "cell_type": "code",
   "execution_count": 14,
   "id": "ffdceb55",
   "metadata": {},
   "outputs": [
    {
     "name": "stdout",
     "output_type": "stream",
     "text": [
      "12.9 µs ± 136 ns per loop (mean ± std. dev. of 7 runs, 100000 loops each)\n"
     ]
    }
   ],
   "source": [
    "%timeit np.random.uniform(-90.000, 90.000, size=1500)"
   ]
  },
  {
   "cell_type": "code",
   "execution_count": 15,
   "id": "fb59870f",
   "metadata": {},
   "outputs": [
    {
     "name": "stdout",
     "output_type": "stream",
     "text": [
      "1.64 ms ± 32.6 µs per loop (mean ± std. dev. of 7 runs, 1000 loops each)\n"
     ]
    }
   ],
   "source": [
    "# The below code does the same thing as the line above but runs much slower as you can see by the output of both,\n",
    "# therefore it makes more sense to run the above code as it is written more effieciently and runs 100xs faster.\n",
    "def latitudes(size):\n",
    "    latitudes = []\n",
    "    x = 0\n",
    "    while x < (size):\n",
    "        random_lat = random.randint(-90, 90) + random.random()\n",
    "        latitudes.append(random_lat)\n",
    "        x += 1\n",
    "    return latitudes\n",
    "# Call the function with 1500.\n",
    "%timeit latitudes(1500)"
   ]
  },
  {
   "cell_type": "code",
   "execution_count": null,
   "id": "0439e87d",
   "metadata": {},
   "outputs": [],
   "source": []
  }
 ],
 "metadata": {
  "kernelspec": {
   "display_name": "PythonData",
   "language": "python",
   "name": "pythondata"
  },
  "language_info": {
   "codemirror_mode": {
    "name": "ipython",
    "version": 3
   },
   "file_extension": ".py",
   "mimetype": "text/x-python",
   "name": "python",
   "nbconvert_exporter": "python",
   "pygments_lexer": "ipython3",
   "version": "3.7.10"
  }
 },
 "nbformat": 4,
 "nbformat_minor": 5
}
